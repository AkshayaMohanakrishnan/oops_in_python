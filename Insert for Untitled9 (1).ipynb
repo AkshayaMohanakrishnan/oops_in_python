{
 "cells": [
  {
   "cell_type": "markdown",
   "id": "60c58401",
   "metadata": {},
   "source": [
    "Why class \n",
    "class-design\n",
    "object-instance"
   ]
  },
  {
   "cell_type": "code",
   "execution_count": 1,
   "id": "ccbb59d2",
   "metadata": {},
   "outputs": [],
   "source": [
    "item1 =\"phone\"\n",
    "item1_price=100\n",
    "item1_quality=5\n",
    "print(type(item1))\n",
    "print(type(item1_price))\n",
    "print(type(item1_quality))"
   ]
  },
  {
   "cell_type": "code",
   "execution_count": 30,
   "id": "aeb2d0e8",
   "metadata": {},
   "outputs": [],
   "source": [
    "class item:\n",
    "    pass\n",
    "item1=item()\n",
    "item1.name=\"phone\"\n",
    "item1.price=100\n",
    "item1.quan=5\n",
    "print(type(item1))\n",
    "print(type(item1.name))\n",
    "print(type(item1.price))\n",
    "print(type(item1.quan))"
   ]
  },
  {
   "cell_type": "markdown",
   "id": "9d1fe307",
   "metadata": {},
   "source": [
    "Methords in class"
   ]
  },
  {
   "cell_type": "code",
   "execution_count": 8,
   "id": "7bd5763c",
   "metadata": {},
   "outputs": [],
   "source": [
    "class item:\n",
    "    def calculate_total_price(self,x,y):\n",
    "        return x*y\n",
    "item1=item()\n",
    "item1.name=\"phone\",\n",
    "item1.qua=5\n",
    "item1.a=100\n",
    "print(item1.calculate_total_price(item1.qua,item1.a))"
   ]
  },
  {
   "cell_type": "markdown",
   "id": "564a975e",
   "metadata": {},
   "source": [
    "calculating for different instance"
   ]
  },
  {
   "cell_type": "code",
   "execution_count": 9,
   "id": "69861a8d",
   "metadata": {},
   "outputs": [],
   "source": [
    "class item:\n",
    "    def calculate(self,x,y):\n",
    "        return x*y\n",
    "item1=item()\n",
    "item1.name=\"phone\"\n",
    "item1.qua=100\n",
    "item1.a=1\n",
    "item2=item()\n",
    "item2.name=\"laptop\"\n",
    "item2.qua=105\n",
    "item2.a=1\n",
    "print(item1.calculate(item1.qua,item1.a))\n",
    "print(item2.calculate(item2.qua,item2.a))"
   ]
  },
  {
   "cell_type": "markdown",
   "id": "e78b09c7",
   "metadata": {},
   "source": [
    "Constructor"
   ]
  },
  {
   "cell_type": "code",
   "execution_count": 10,
   "id": "aba8f7d0",
   "metadata": {},
   "outputs": [
    {
     "name": "stdout",
     "output_type": "stream",
     "text": [
      "23\n"
     ]
    }
   ],
   "source": [
    "class item:\n",
    "    def __init__(self,name,quality,price):\n",
    "        self.name=name\n",
    "        self.quality=quality\n",
    "        self.price=price\n",
    "    def calculate(self):\n",
    "        return self.quality*self.price\n",
    "    \n",
    "item1=item(\"phone\",23,1)\n",
    "item2=item(\"laptop\",34,1)\n",
    "print(item1.calculate())"
   ]
  },
  {
   "cell_type": "code",
   "execution_count": 2,
   "id": "f7fcbf7d",
   "metadata": {},
   "outputs": [
    {
     "name": "stdout",
     "output_type": "stream",
     "text": [
      "hi\n",
      "None\n"
     ]
    }
   ],
   "source": [
    "class item:\n",
    "    def __init__(self,name,quality,price):\n",
    "        self.name=name\n",
    "        self.quality=quality\n",
    "        self.price=price\n",
    "    def calculate(self):\n",
    "        print(\"hi\")\n",
    "    @staticmethod\n",
    "    def test():\n",
    "        return item.calculate\n",
    "    \n",
    "item1=item(\"phone\",23,1)\n",
    "item2=item(\"laptop\",34,1)\n",
    "print(item1.calculate())"
   ]
  },
  {
   "cell_type": "markdown",
   "id": "f018527d",
   "metadata": {},
   "source": [
    "to assign  a particular data type to the argument and to avoid negative values in it using assert"
   ]
  },
  {
   "cell_type": "code",
   "execution_count": 26,
   "id": "ec2a18b5",
   "metadata": {},
   "outputs": [],
   "source": [
    "class item:\n",
    "    def __init__(self,name:str,quality:float,price:int):\n",
    "        assert price>=0,f\"price{price} is neagative\"\n",
    "        assert quality>=0,f\"price{price} is neagative\"\n",
    "        self.name=name\n",
    "        self.quality=quality\n",
    "        self.price=price\n",
    "    def calculate(self):\n",
    "        return self.quality*self.price\n",
    "item1=item(\"phone\",23,1)\n",
    "item2=item(\"laptop\",34,1)\n",
    "item3=item(\"phone\",23,1)\n",
    "print(item1.calculate())\n",
    "print(item2.calculate())\n",
    "print(item3.calculate())"
   ]
  },
  {
   "cell_type": "code",
   "execution_count": 27,
   "id": "99f279df",
   "metadata": {},
   "outputs": [],
   "source": [
    "class item:\n",
    "    pay=0.8\n",
    "    def __init__(self,name:str,quality:float,price:int):\n",
    "        assert price>=0,f\"price{price} is neagative\"\n",
    "        assert quality>=0,f\"price{price} is neagative\"\n",
    "        self.name=name\n",
    "        self.quality=quality\n",
    "        self.price=price\n",
    "    def calculate(self):\n",
    "        return self.quality*self.price\n",
    "item1=item(\"phone\",23,1)\n",
    "item2=item(\"laptop\",34,1)\n",
    "item3=item(\"phone\",23,1)\n",
    "print(item.pay)\n",
    "print(item1.pay)\n",
    "print(item2.pay)"
   ]
  },
  {
   "cell_type": "markdown",
   "id": "f527dc77",
   "metadata": {},
   "source": [
    "Magic attribute __dict__ is used to get all class level attribute and instance level separately in a dictionary form "
   ]
  },
  {
   "cell_type": "code",
   "execution_count": 5,
   "id": "8123021e",
   "metadata": {},
   "outputs": [
    {
     "name": "stdout",
     "output_type": "stream",
     "text": [
      "{'__module__': '__main__', 'pay': 0.8, '__init__': <function item.__init__ at 0x00000210072D4C10>, 'calculate': <function item.calculate at 0x00000210072D4B80>, '__dict__': <attribute '__dict__' of 'item' objects>, '__weakref__': <attribute '__weakref__' of 'item' objects>, '__doc__': None}\n",
      "{'name': 'phone', 'quality': 23, 'price': 1}\n",
      "{'name': 'laptop', 'quality': 34, 'price': 1}\n"
     ]
    }
   ],
   "source": [
    "class item:\n",
    "    pay=0.8\n",
    "    def __init__(self,name:str,quality:float,price:int):\n",
    "        assert price>=0,f\"price{price} is neagative\"\n",
    "        assert quality>=0,f\"price{price} is neagative\"\n",
    "        self.name=name\n",
    "        self.quality=quality\n",
    "        self.price=price\n",
    "    def calculate(self):\n",
    "        return self.quality*self.price\n",
    "item1=item(\"phone\",23,1)\n",
    "item2=item(\"laptop\",34,1)\n",
    "item3=item(\"phone\",23,1)\n",
    "print(item.__dict__)#__dict__ is build in magic attribute# all the attributes for class level\n",
    "print(item1.__dict__)#all the attribute in instance lvl in dict form\n",
    "print(item2.__dict__)"
   ]
  },
  {
   "cell_type": "markdown",
   "id": "f5d36faa",
   "metadata": {},
   "source": [
    "To apply some discount on items price"
   ]
  },
  {
   "cell_type": "code",
   "execution_count": 6,
   "id": "5bb2f1d1",
   "metadata": {},
   "outputs": [
    {
     "name": "stdout",
     "output_type": "stream",
     "text": [
      "80.0\n"
     ]
    }
   ],
   "source": [
    "class item:\n",
    "    pay=0.8\n",
    "    def __init__(self,name:str,quality:float,price:int):\n",
    "        assert price>=0,f\"price{price} is neagative\"\n",
    "        assert quality>=0,f\"price{price} is neagative\"\n",
    "        self.name=name\n",
    "        self.quality=quality\n",
    "        self.price=price\n",
    "    def calculate(self):\n",
    "        return self.quality*self.price\n",
    "    def apply_discount(self):\n",
    "        self.price = self.price*item.pay\n",
    "item1=item(\"phone\",1,100)\n",
    "item1.apply_discount()\n",
    "print(item1.price)"
   ]
  },
  {
   "cell_type": "code",
   "execution_count": 7,
   "id": "4385deae",
   "metadata": {},
   "outputs": [
    {
     "name": "stdout",
     "output_type": "stream",
     "text": [
      "80.0\n",
      "800.0\n"
     ]
    }
   ],
   "source": [
    "class item:\n",
    "    pay=0.8\n",
    "    def __init__(self,name:str,quality:float,price:int):\n",
    "        assert price>=0,f\"price{price} is neagative\"\n",
    "        assert quality>=0,f\"price{price} is neagative\"\n",
    "        self.name=name\n",
    "        self.quality=quality\n",
    "        self.price=price\n",
    "    def calculate(self):\n",
    "        return self.quality*self.price\n",
    "    def apply_discount(self):\n",
    "        self.price = self.price*item.pay\n",
    "item1=item(\"phone\",1,100)\n",
    "item1.apply_discount()\n",
    "print(item1.price)\n",
    "item2=item(\"laptop\",3,1000)\n",
    "item2.pay=0.7#here still it is accesing from class level as 0.8 so we have to change from item to self \n",
    "item2.apply_discount()\n",
    "print(item2.price)"
   ]
  },
  {
   "cell_type": "code",
   "execution_count": 8,
   "id": "25f30b71",
   "metadata": {},
   "outputs": [],
   "source": [
    "class item:\n",
    "    pay=0.8\n",
    "    def __init__(self,name:str,quality:float,price:int):\n",
    "        assert price>=0,f\"price{price} is neagative\"\n",
    "        assert quality>=0,f\"price{price} is neagative\"\n",
    "        self.name=name\n",
    "        self.quality=quality\n",
    "        self.price=price\n",
    "    def calculate(self):\n",
    "        return self.quality*self.price\n",
    "    def apply_discount(self):\n",
    "        self.price = self.price*self.pay\n",
    "item1=item(\"phone\",1,100)\n",
    "item1.apply_discount()\n",
    "print(item1.price)\n",
    "item2=item(\"laptop\",3,1000)\n",
    "item2.pay=0.7#here still it is accesing from class level as 0.8 so we have to change from item to self \n",
    "item2.apply_discount()\n",
    "print(item2.price)"
   ]
  },
  {
   "cell_type": "markdown",
   "id": "921bb27a",
   "metadata": {},
   "source": [
    "to consider the shop is going to have large product in future"
   ]
  },
  {
   "cell_type": "code",
   "execution_count": null,
   "id": "062d4977",
   "metadata": {},
   "outputs": [],
   "source": [
    "class item:\n",
    "    pay=0.8\n",
    "    def __init__(self,name:str,quality:float,price:int):\n",
    "        assert price>=0,f\"price{price} is neagative\"\n",
    "        assert quality>=0,f\"price{price} is neagative\"\n",
    "        #assign to self object\n",
    "        self.name=name\n",
    "        self.quality=quality\n",
    "        self.price=price\n",
    "    def calculate(self):\n",
    "        return self.quality*self.price\n",
    "    def apply_discount(self):\n",
    "        self.price = self.price*self.pay\n",
    "item1=item(\"phone\",1,100)\n",
    "item2=item(\"laptop\",1000,3)\n",
    "item3=item(\"cable\",5,10)\n",
    "item4=item(\"mouse\",5,58)\n",
    "item5=item(\"keyboard\",5,75)"
   ]
  },
  {
   "cell_type": "code",
   "execution_count": 9,
   "id": "601dad99",
   "metadata": {},
   "outputs": [
    {
     "name": "stdout",
     "output_type": "stream",
     "text": [
      "None\n"
     ]
    }
   ],
   "source": [
    "class item:\n",
    "    pay=0.8\n",
    "    def __init__(self,name:str,quality:float,price:int):\n",
    "        assert price>=0,f\"price{price} is neagative\"\n",
    "        assert quality>=0,f\"price{price} is neagative\"\n",
    "        #assign to self object\n",
    "        self.name=name\n",
    "        self.quality=quality\n",
    "        self.price=price\n",
    "    def calculate(self):\n",
    "        return self.quality*self.price\n",
    "    def apply_discount(self):\n",
    "        self.price = self.price*self.pay\n",
    "item1=item(\"phone\",1,100)\n",
    "item2=item(\"laptop\",1000,3)\n",
    "item3=item(\"cable\",5,10)\n",
    "item4=item(\"mouse\",5,58)\n",
    "item5=item(\"keyboard\",5,75)\n",
    "print(item5.apply_discount())"
   ]
  },
  {
   "cell_type": "markdown",
   "id": "0fdc0f31",
   "metadata": {},
   "source": [
    "Need to acess all the item"
   ]
  },
  {
   "cell_type": "code",
   "execution_count": 8,
   "id": "9b8b76e2",
   "metadata": {},
   "outputs": [
    {
     "name": "stdout",
     "output_type": "stream",
     "text": [
      "[<__main__.item object at 0x0000021006617A30>, <__main__.item object at 0x00000210066178E0>, <__main__.item object at 0x00000210066174C0>, <__main__.item object at 0x00000210066175B0>, <__main__.item object at 0x0000021006617CA0>]\n"
     ]
    }
   ],
   "source": [
    "class item:\n",
    "    pay=0.8\n",
    "    all=[]\n",
    "    def __init__(self,name:str,quality:float,price:int):\n",
    "        #run validation to the received arguments\n",
    "        assert price>=0,f\"price{price} is neagative\"\n",
    "        assert quality>=0,f\"price{price} is neagative\"\n",
    "        #assign to self object\n",
    "        self.name=name\n",
    "        self.quality=quality\n",
    "        self.price=price\n",
    "        #action to execue\n",
    "        item.all.append(self)\n",
    "        \n",
    "    def calculate(self):\n",
    "        return self.quality*self.price\n",
    "    def apply_discount(self):\n",
    "        self.price = self.price*self.pay\n",
    "item1=item(\"phone\",1,100)\n",
    "item2=item(\"laptop\",1000,3)\n",
    "item3=item(\"cable\",5,10)\n",
    "item4=item(\"mouse\",5,58)\n",
    "item5=item(\"keyboard\",5,75)\n",
    "print(item.all)"
   ]
  },
  {
   "cell_type": "code",
   "execution_count": 9,
   "id": "098d5e7b",
   "metadata": {},
   "outputs": [
    {
     "name": "stdout",
     "output_type": "stream",
     "text": [
      "phone\n",
      "laptop\n",
      "cable\n",
      "mouse\n",
      "keyboard\n"
     ]
    }
   ],
   "source": [
    "class item:\n",
    "    pay=0.8\n",
    "    all=[]\n",
    "    def __init__(self,name:str,quality:float,price:int):\n",
    "        #run validation to the received arguments\n",
    "        assert price>=0,f\"price{price} is neagative\"\n",
    "        assert quality>=0,f\"price{price} is neagative\"\n",
    "        #assign to self object\n",
    "        self.name=name\n",
    "        self.quality=quality\n",
    "        self.price=price\n",
    "        #action to execue\n",
    "        item.all.append(self)\n",
    "        \n",
    "    def calculate(self):\n",
    "        return self.quality*self.price\n",
    "    def apply_discount(self):\n",
    "        self.price = self.price*self.pay\n",
    "item1=item(\"phone\",1,100)\n",
    "item2=item(\"laptop\",1000,3)\n",
    "item3=item(\"cable\",5,10)\n",
    "item4=item(\"mouse\",5,58)\n",
    "item5=item(\"keyboard\",5,75)\n",
    "for instance in item.all:\n",
    "    print(instance.name)"
   ]
  },
  {
   "cell_type": "code",
   "execution_count": 12,
   "id": "e0ad000b",
   "metadata": {},
   "outputs": [],
   "source": [
    "class item:\n",
    "    pay=0.8\n",
    "    all=[]\n",
    "    def __init__(self,name:str,quality:float,price:int):\n",
    "        #run validation to the received arguments\n",
    "        assert price>=0,f\"price{price} is neagative\"\n",
    "        assert quality>=0,f\"price{price} is neagative\"\n",
    "        #assign to self object\n",
    "        self.name=name\n",
    "        self.quality=quality\n",
    "        self.price=price\n",
    "        #action to execue\n",
    "        item.all.append(self)\n",
    "        \n",
    "    def calculate(self):\n",
    "        return self.quality*self.price\n",
    "    def apply_discount(self):\n",
    "        self.price = self.price*self.pay\n",
    "item1=item(\"phone\",1,100)\n",
    "item2=item(\"laptop\",1000,3)\n",
    "item3=item(\"cable\",5,10)\n",
    "item4=item(\"mouse\",5,58)\n",
    "item5=item(\"keyboard\",5,75)\n",
    "print(item.all)"
   ]
  },
  {
   "cell_type": "markdown",
   "id": "3e0c9006",
   "metadata": {},
   "source": [
    "the above output is not good"
   ]
  },
  {
   "cell_type": "code",
   "execution_count": 10,
   "id": "20ed2197",
   "metadata": {},
   "outputs": [
    {
     "name": "stdout",
     "output_type": "stream",
     "text": [
      "[item, item, item, item, item]\n"
     ]
    }
   ],
   "source": [
    "class item:\n",
    "    pay=0.8\n",
    "    all=[]\n",
    "    def __init__(self,name:str,quality:float,price:int):\n",
    "        #run validation to the received arguments\n",
    "        assert price>=0,f\"price{price} is neagative\"\n",
    "        assert quality>=0,f\"price{price} is neagative\"\n",
    "        #assign to self object\n",
    "        self.name=name\n",
    "        self.quality=quality\n",
    "        self.price=price\n",
    "        #action to execue\n",
    "        item.all.append(self)\n",
    "        \n",
    "    def calculate(self):\n",
    "        return self.quality*self.price\n",
    "    def apply_discount(self):\n",
    "        self.price = self.price*self.pay\n",
    "    def __repr__(self):# it is used to represent your object\n",
    "        return \"item\"\n",
    "item1=item(\"phone\",1,100)\n",
    "item2=item(\"laptop\",1000,3)\n",
    "item3=item(\"cable\",5,10)\n",
    "item4=item(\"mouse\",5,58)\n",
    "item5=item(\"keyboard\",5,75)\n",
    "print(item.all)\n"
   ]
  },
  {
   "cell_type": "markdown",
   "id": "acf23303",
   "metadata": {},
   "source": [
    "In the above program it is very difficult to find which item represent which item"
   ]
  },
  {
   "cell_type": "code",
   "execution_count": 13,
   "id": "11e27d7c",
   "metadata": {},
   "outputs": [
    {
     "name": "stdout",
     "output_type": "stream",
     "text": [
      "[item(phone,1,100), item(laptop,1000,3), item(cable,5,10), item(mouse,5,58), item(keyboard,5,75)]\n"
     ]
    }
   ],
   "source": [
    "class item:\n",
    "    pay=0.8\n",
    "    all=[]\n",
    "    def __init__(self,name:str,quality:float,price:int):\n",
    "        #run validation to the received arguments\n",
    "        assert price>=0,f\"price{price} is neagative\"\n",
    "        assert quality>=0,f\"price{price} is neagative\"\n",
    "        #assign to self object\n",
    "        self.name=name\n",
    "        self.quality=quality\n",
    "        self.price=price\n",
    "        #action to execue\n",
    "        item.all.append(self)\n",
    "        \n",
    "    def calculate(self):\n",
    "        return self.quality*self.price\n",
    "    def apply_discount(self):\n",
    "        self.price = self.price*self.pay\n",
    "    def __repr__(self):# it is used to represent your object\n",
    "        return f\"item({self.name},{self.quality},{self.price})\"\n",
    "item1=item(\"phone\",1,100)\n",
    "item2=item(\"laptop\",1000,3)\n",
    "item3=item(\"cable\",5,10)\n",
    "item4=item(\"mouse\",5,58)\n",
    "item5=item(\"keyboard\",5,75)\n",
    "print(item.all)\n"
   ]
  },
  {
   "cell_type": "markdown",
   "id": "cb383d88",
   "metadata": {},
   "source": [
    "class method vs static method vs instance method"
   ]
  },
  {
   "cell_type": "markdown",
   "id": "cefce8dc",
   "metadata": {},
   "source": [
    "class methods"
   ]
  },
  {
   "cell_type": "code",
   "execution_count": 14,
   "id": "b7183a3f",
   "metadata": {},
   "outputs": [
    {
     "name": "stdout",
     "output_type": "stream",
     "text": [
      "12000\n",
      "12000\n"
     ]
    }
   ],
   "source": [
    "class student:\n",
    "    fees = 10000\n",
    "    no_of_stu=0\n",
    "    def __init__(self,name,rollno,dob,city):\n",
    "        self.name = name\n",
    "        self.dob = dob\n",
    "        self.rollno = rollno\n",
    "        self.city = city\n",
    "        student.no_of_stu = student.no_of_stu +1\n",
    "    def pay_fees(self,amount):\n",
    "        self.fees = self.fees-amount\n",
    "    @classmethod\n",
    "    def change_fees(cls,amount):\n",
    "        cls.fees=amount\n",
    "stu1 =student('anandh',100,1998,'chennai')\n",
    "stu2 =student('mohan',200,1999,'trichy')\n",
    "student.change_fees(12000)\n",
    "print(stu1.fees)\n",
    "print(stu2.fees)"
   ]
  },
  {
   "cell_type": "markdown",
   "id": "1ca0e75e",
   "metadata": {},
   "source": [
    "using class method as constructor"
   ]
  },
  {
   "cell_type": "code",
   "execution_count": 15,
   "id": "a3eeca81",
   "metadata": {},
   "outputs": [
    {
     "name": "stdout",
     "output_type": "stream",
     "text": [
      "1997\n"
     ]
    }
   ],
   "source": [
    "class student:\n",
    "    fees = 10000\n",
    "    no_of_stu=0\n",
    "    def __init__(self,name,rollno,dob,city):\n",
    "        self.name = name\n",
    "        self.dob = dob\n",
    "        self.rollno = rollno\n",
    "        self.city = city\n",
    "        student.no_of_stu = student.no_of_stu +1\n",
    "    def pay_fees(self,amount):\n",
    "        self.fees = self.fees-amount\n",
    "    @classmethod\n",
    "    def change_fees(cls,amount):\n",
    "        cls.fees=amount\n",
    "    @classmethod\n",
    "    def stu_data(cls,data):\n",
    "        name,rollno,dob,city = data.split(\",\")\n",
    "        return cls(name, rollno, dob, city)\n",
    "stu1 =student('anandh',100,1998,'chennai')\n",
    "stu2 =student('mohan',200,1999,'trichy')\n",
    "data='ram,300,1997,salem'\n",
    "stu3 = student.stu_data(data)\n",
    "\n",
    "print(stu3.dob)\n"
   ]
  },
  {
   "cell_type": "markdown",
   "id": "b8f0f7bf",
   "metadata": {},
   "source": [
    "static method"
   ]
  },
  {
   "cell_type": "code",
   "execution_count": 3,
   "id": "c33c6c0a",
   "metadata": {},
   "outputs": [
    {
     "name": "stdout",
     "output_type": "stream",
     "text": [
      "True\n"
     ]
    }
   ],
   "source": [
    "class student:\n",
    "    fees = 10000\n",
    "    no_of_stu=0\n",
    "    def __init__(self,name,rollno,dob,city):\n",
    "        self.name = name\n",
    "        self.dob = dob\n",
    "        self.rollno = rollno\n",
    "        self.city = city\n",
    "        student.no_of_stu = student.no_of_stu +1\n",
    "    def pay_fees(self,amount):\n",
    "        self.fees = self.fees-amount\n",
    "    @classmethod\n",
    "    def change_fees(cls,amount):\n",
    "        cls.fees=amount\n",
    "    @classmethod\n",
    "    def stu_data(cls,data):\n",
    "        name,rollno,dob,city = data.split(\",\")\n",
    "        return cls(name, rollno, dob, city)\n",
    "    @staticmethod\n",
    "    def department(dept):\n",
    "        available_dept=['mech','cs']\n",
    "        if dept in available_dept:\n",
    "            return True\n",
    "        return False\n",
    "stu1 =student('anandh',100,1998,'chennai')\n",
    "stu2 =student('mohan',200,1999,'trichy')\n",
    "print(stu1.department('cs'))"
   ]
  },
  {
   "cell_type": "markdown",
   "id": "0ddc86e7",
   "metadata": {},
   "source": [
    "Inheritance"
   ]
  },
  {
   "cell_type": "markdown",
   "id": "934cbae3",
   "metadata": {},
   "source": [
    "super class: The class whose features are inherited is known as super class (or a base class or a parent class).\n",
    "\n",
    "sub class: The class that inherits the other class is known as sub class(or a derived class, extended class or child class)\n",
    "\n",
    "The subclass can add its\n",
    "own field and methods in addition to the superclass field and methods.\n",
    "\n",
    "Inheritance supports the concept of \"reusability\", i.e when we want to create a new class and there is already a class that includes some of the code that we want, we can derive our new class from the existing class.\n",
    "by doing this, we are reusing the fields and methods of the existing class."
   ]
  },
  {
   "cell_type": "markdown",
   "id": "c319cb2e",
   "metadata": {},
   "source": [
    "Inheritance:\n",
    "An object of one class : behaving an object of another class.\n",
    "HAS-A Relationship-compsition-tightly coupled\n",
    "My mobile has signal\n",
    "IS-A Relationship-parent child relationship-lossely coupled\n",
    "Parrot is a bird\n",
    "Raja is a human being"
   ]
  },
  {
   "cell_type": "code",
   "execution_count": null,
   "id": "fc10eedc",
   "metadata": {},
   "outputs": [],
   "source": [
    "class signal:\n",
    "    memory = 15\n",
    "    def __init__(self):\n",
    "        self.ram=2\n",
    "    def messaging(self):\n",
    "        print(\"send message to friends\")\n",
    "class android:\n",
    "    def __init__(self):\n",
    "        self.price=10000\n",
    "        self.messagingapp=signal()\n",
    "    def multiactivity(self):\n",
    "        print(\"watch video\")\n",
    "        print(\"chat\")"
   ]
  },
  {
   "cell_type": "markdown",
   "id": "6a79d05b",
   "metadata": {},
   "source": [
    "Preparing a signal app in android:\n",
    "class: template/blueprint\n",
    "signal/telegram/whatsapp\n",
    "\n",
    "properties - logo,memory,privacy ppolicies(variables)\n",
    "usage-chat,group,status,video call(function/method)\n",
    "\n",
    "Android : Template/blueprint\n",
    "properties- signal/youtube/gmail\n",
    "usage: message,call,chat,video,mail,game"
   ]
  },
  {
   "cell_type": "code",
   "execution_count": null,
   "id": "fe27de93",
   "metadata": {},
   "outputs": [],
   "source": [
    "class android\n",
    "def __init__(self):\n",
    "    yt=youtube()\n",
    "    ch=chrome()\n",
    "def watchingyt(self):\n",
    "    print(\"watch youtube videos\")\n",
    "    \n",
    "mobile=android()\n",
    "mobile.yt"
   ]
  },
  {
   "cell_type": "markdown",
   "id": "e53c5d4b",
   "metadata": {},
   "source": [
    "Has a reltionship"
   ]
  },
  {
   "cell_type": "code",
   "execution_count": 14,
   "id": "4d94c1b1",
   "metadata": {},
   "outputs": [],
   "source": [
    "class ac:\n",
    "    gas=True\n",
    "    def  maintainAir(self):\n",
    "        print(\"ac\")\n",
    "class speaker:\n",
    "    def hearsongs(self):\n",
    "        print(\"hear songs\")\n",
    "class car:\n",
    "    price=500000\n",
    "    def __init__(self):\n",
    "        self.voltas=ac()\n",
    "        self.sony=speaker()\n",
    "    def drive(self):\n",
    "        print(\"drive car\")\n",
    "nano=car()\n",
    "nano.voltas.maintainAir()\n",
    "nano.sony.hearsongs()"
   ]
  },
  {
   "cell_type": "markdown",
   "id": "d0efca71",
   "metadata": {},
   "source": [
    "is a relationship"
   ]
  },
  {
   "cell_type": "code",
   "execution_count": 18,
   "id": "5758ee71",
   "metadata": {},
   "outputs": [],
   "source": [
    "class tr:\n",
    "    profession='multi talented'\n",
    "    def dance(self):\n",
    "        print('dancing')\n",
    "    def sing(self):\n",
    "        print('singing')\n",
    "class simbu(tr):\n",
    "    def act(self):\n",
    "        print('acting')\n",
    "    def dance(self):\n",
    "        print('my own steps')\n",
    "s=simbu()\n",
    "s.sing()\n",
    "s.act()\n",
    "s.dance()\n",
    "print(s.profession)"
   ]
  },
  {
   "cell_type": "code",
   "execution_count": 39,
   "id": "0e4bfed1",
   "metadata": {},
   "outputs": [],
   "source": [
    "class tr:\n",
    "    profession='multi talented'\n",
    "    def __init__(self):\n",
    "        self.balance=100000\n",
    "    def dance(self):\n",
    "        print('dancing')\n",
    "    def sing(self):\n",
    "        print('singing')\n",
    "    @classmethod\n",
    "    def test(cls):\n",
    "        print(\"class\")\n",
    "    @staticmethod\n",
    "    def test2():\n",
    "        print(\"class2\")\n",
    "        \n",
    "class simbu(tr):\n",
    "    def act(self):\n",
    "        print('acting')\n",
    "    def dance(self):\n",
    "        print('my own steps')\n",
    "t=tr()\n",
    "s=simbu()\n",
    "t.sing()\n",
    "s.act()\n",
    "s.dance()\n",
    "tr.test()\n",
    "tr.test2()\n",
    "print(s.profession)\n",
    "print(s.balance)"
   ]
  },
  {
   "cell_type": "code",
   "execution_count": 40,
   "id": "66d9bebe",
   "metadata": {},
   "outputs": [],
   "source": [
    "class telephone:\n",
    "    def call(self):\n",
    "        pass\n",
    "    def callerid(self):\n",
    "        pass\n",
    "class mobile(telephone):\n",
    "    def messaging(self):\n",
    "        pass\n",
    "    def roam(self):\n",
    "        pass\n",
    "class smartphone(mobile):\n",
    "    def internet(self):\n",
    "        pass\n",
    "    def camera(self):\n",
    "        pass\n",
    "sp=smartphone()"
   ]
  },
  {
   "cell_type": "markdown",
   "id": "7599bfa9",
   "metadata": {},
   "source": [
    "Types of inheritance:\n",
    "1) single inheritance\n",
    "2) multiple inheritance\n",
    "3) multi level inheritance\n",
    "4) hybrid inheritance\n",
    "5) hierarchical inheritance\n"
   ]
  },
  {
   "cell_type": "code",
   "execution_count": 3,
   "id": "c6ba51d6",
   "metadata": {},
   "outputs": [],
   "source": [
    "#ordinary\n",
    "class parent:\n",
    "    def fun1(self):\n",
    "        print(\"this is function 1\")\n",
    "class child():\n",
    "    def fun2(self):\n",
    "        print(\"this is function 2\")\n",
    "\n",
    "obj1=parent()\n",
    "obj1.fun1()\n",
    "\n",
    "obj2=child()\n",
    "obj2.fun2()\n",
    "    "
   ]
  },
  {
   "cell_type": "code",
   "execution_count": 5,
   "id": "dd026772",
   "metadata": {},
   "outputs": [],
   "source": [
    "#inheritance\n",
    "class parent:\n",
    "    def fun1(self):\n",
    "        print(\"this is function 1\")\n",
    "class child(parent):\n",
    "    def fun2(self):\n",
    "        print(\"this is function 2\")\n",
    "\n",
    "obj2=child()\n",
    "obj2.fun1()\n",
    "obj2.fun2()"
   ]
  },
  {
   "cell_type": "markdown",
   "id": "21eb23ea",
   "metadata": {},
   "source": [
    "single inheritance:\n",
    "    A\n",
    "    _\n",
    "    _\n",
    "    _\n",
    "    _\n",
    "    B"
   ]
  },
  {
   "cell_type": "code",
   "execution_count": 4,
   "id": "c1171424",
   "metadata": {},
   "outputs": [],
   "source": [
    "#single inheritance\n",
    "class addition:\n",
    "    def add(self):\n",
    "        a=int(input(\"enter the a value:\"))\n",
    "        b=int(input(\"enter the b value:\"))\n",
    "        c=a+b\n",
    "        print(\"addition:\",c)\n",
    "class subtraction(addition):\n",
    "    def sub(self):\n",
    "        a=int(input(\"enter the a value:\"))\n",
    "        b=int(input(\"enter the b value:\"))\n",
    "        c=a-b\n",
    "        print(\"subtraction:\",c)\n",
    "obj=subtraction()\n",
    "obj.add()\n",
    "obj.sub()"
   ]
  },
  {
   "cell_type": "markdown",
   "id": "2055bdfa",
   "metadata": {},
   "source": [
    "Multiple inheritance\n",
    " a      b(base classes)\n",
    " -      -\n",
    " -      -\n",
    " -      -\n",
    "    -\n",
    "    c(derived class)"
   ]
  },
  {
   "cell_type": "code",
   "execution_count": 8,
   "id": "b023493b",
   "metadata": {},
   "outputs": [],
   "source": [
    "class addition:\n",
    "    def add(self):\n",
    "        a=int(input(\"enter the a value:\"))\n",
    "        b=int(input(\"enter the b value\"))\n",
    "        c=a+b\n",
    "        print(\"addition:\",c)\n",
    "class subtraction:\n",
    "    def sub(self):\n",
    "        a=int(input(\"enter the a value:\"))\n",
    "        b=int(input(\"enter the b value:\"))\n",
    "        c=a-b\n",
    "        print(\"subtraction:\",c)\n",
    "class put(addition,subtraction):\n",
    "    def base(self):\n",
    "        self.add()\n",
    "        self.sub()\n",
    "obj=put()\n",
    "obj.base()\n",
    "#obj.add()\n",
    "#obj.sub()"
   ]
  },
  {
   "cell_type": "markdown",
   "id": "d45efa7d",
   "metadata": {},
   "source": [
    "Multi level inheritance\n",
    "a(base class)\n",
    "|\n",
    "|\n",
    "b(intermediate class)\n",
    "|\n",
    "|\n",
    "c(derived class)"
   ]
  },
  {
   "cell_type": "code",
   "execution_count": 10,
   "id": "a20d2b46",
   "metadata": {},
   "outputs": [],
   "source": [
    "class addition:\n",
    "    def add(self):\n",
    "        a=int(input(\"enter the a value:\"))\n",
    "        b=int(input(\"enter the b value\"))\n",
    "        c=a+b\n",
    "        print(\"addition:\",c)\n",
    "class subtraction(addition):\n",
    "    def sub(self):\n",
    "        a=int(input(\"enter the a value:\"))\n",
    "        b=int(input(\"enter the b value:\"))\n",
    "        c=a-b\n",
    "        print(\"subtraction:\",c)\n",
    "class callfun(subtraction):\n",
    "    def call(self):\n",
    "        self.add()\n",
    "        self.sub()\n",
    "obj=callfun()\n",
    "obj.call()"
   ]
  },
  {
   "cell_type": "markdown",
   "id": "069bdaf6",
   "metadata": {},
   "source": [
    "Hierarchical inheritance\n",
    "a(base class)\n",
    "|\n",
    "|\n",
    "b---c---d(derived class)"
   ]
  },
  {
   "cell_type": "code",
   "execution_count": 13,
   "id": "ae820a50",
   "metadata": {},
   "outputs": [],
   "source": [
    "class get:#base class,a class\n",
    "    def getin(self):\n",
    "        self.a=int(input(\"enter the a value:\"))\n",
    "        self.b=int(input(\"enter the b value:\"))\n",
    "class addition(get):#b class:a class\n",
    "    def add(self):\n",
    "        self.getin()\n",
    "        c=self.a+self.b\n",
    "        print(\"addition:\",c)\n",
    "class subtraction(get):#c class: a class\n",
    "    def sub(self):\n",
    "        self.getin()\n",
    "        c=self.a-self.b\n",
    "        print(\"subtraction:\",c)\n",
    "obj1=addition()\n",
    "obj1.add()\n",
    "obj2=subtraction()\n",
    "obj2.sub()"
   ]
  },
  {
   "cell_type": "markdown",
   "id": "4457ea45",
   "metadata": {},
   "source": [
    "Hybrid inheritance:(combination of multiple and hierarchial)\n",
    "           A\n",
    "         |    |\n",
    "        |      |\n",
    "       B        C\n",
    "        |      |\n",
    "         |    |\n",
    "           D"
   ]
  },
  {
   "cell_type": "code",
   "execution_count": 19,
   "id": "31da7cdf",
   "metadata": {},
   "outputs": [],
   "source": [
    "class get:#base class,a class\n",
    "    def getin(self):\n",
    "        self.a=int(input(\"enter the a value:\"))\n",
    "        self.b=int(input(\"enter the b value:\"))\n",
    "        \n",
    "class addition(get):#b class :a class\n",
    "    def add(self):\n",
    "        self.getin()\n",
    "        c=self.a+self.b\n",
    "        print(\"addition:\",c)\n",
    "class subtraction(get):#c class:a class\n",
    "    def sub(self):\n",
    "        self.getin()\n",
    "        c=self.a-self.b\n",
    "        print(\"subtraction:\",c)\n",
    "class arithmetic(addition,subtraction):#d class :b class : c class\n",
    "    def arith(self):\n",
    "        self.add()\n",
    "        self.sub()\n",
    "obj=arithmetic()\n",
    "obj.arith()"
   ]
  },
  {
   "cell_type": "markdown",
   "id": "b6ef2308",
   "metadata": {},
   "source": [
    "Polymorphism:\n",
    "method overloading\n",
    "method overridding\n",
    "operator overloading"
   ]
  },
  {
   "cell_type": "markdown",
   "id": "ecdac50a",
   "metadata": {},
   "source": [
    "function overloading or method overloading"
   ]
  },
  {
   "cell_type": "code",
   "execution_count": 24,
   "id": "d56f6e72",
   "metadata": {},
   "outputs": [],
   "source": [
    "class myclass:\n",
    "    def fun(self,a):\n",
    "        print(a)\n",
    "    def fun(self,a,b):\n",
    "        print(a+b)\n",
    "    def fun(self,a,b,c):\n",
    "        print(a+b+c)\n",
    "obj=myclass()\n",
    "obj.fun(10,20,30)\n",
    "#this is function overloading in python but it is not possible i  python"
   ]
  },
  {
   "cell_type": "code",
   "execution_count": 17,
   "id": "496f59d8",
   "metadata": {},
   "outputs": [
    {
     "name": "stdout",
     "output_type": "stream",
     "text": [
      "result: 10\n"
     ]
    }
   ],
   "source": [
    "class myclass:\n",
    "    def fun(self,a=None,b=None,c=None):\n",
    "        if a!=None and b!=None and c!=None:\n",
    "            return a+b+c\n",
    "        elif a!=None and b!=None:\n",
    "            return a+b\n",
    "        else:\n",
    "            return a\n",
    "obj=myclass()\n",
    "print(\"result:\",obj.fun(10))"
   ]
  },
  {
   "cell_type": "markdown",
   "id": "3eb43c13",
   "metadata": {},
   "source": [
    "How to get multiple value as argument"
   ]
  },
  {
   "cell_type": "code",
   "execution_count": 30,
   "id": "bd9a8679",
   "metadata": {},
   "outputs": [],
   "source": [
    "class myclass:\n",
    "    def fun(self,*args):\n",
    "        sum=0\n",
    "        for i in args:\n",
    "            sum+=i\n",
    "        print(\"sum value:\",sum)\n",
    "obj=myclass()\n",
    "obj.fun(10,20,30,1)"
   ]
  },
  {
   "cell_type": "markdown",
   "id": "bb9c69a5",
   "metadata": {},
   "source": [
    "Method overriding"
   ]
  },
  {
   "cell_type": "code",
   "execution_count": 31,
   "id": "503ac438",
   "metadata": {},
   "outputs": [],
   "source": [
    "#example\n",
    "def fun():\n",
    "    print(\"method1\")\n",
    "def fun():\n",
    "    print(\"method2\")\n",
    "def fun():\n",
    "    print(\"method3\")"
   ]
  },
  {
   "cell_type": "code",
   "execution_count": 20,
   "id": "2c658155",
   "metadata": {},
   "outputs": [
    {
     "name": "stdout",
     "output_type": "stream",
     "text": [
      "online\n",
      "offline\n",
      "car\n"
     ]
    }
   ],
   "source": [
    "class ram:\n",
    "    def project(self):\n",
    "        print(\"online\")\n",
    "class sam(ram):\n",
    "    def project(self):\n",
    "        super().project()\n",
    "        print(\"offline\")\n",
    "class kumar(sam):\n",
    "    def project(self):\n",
    "        super().project()\n",
    "        print(\"car\")\n",
    "obj=kumar()\n",
    "obj.project()"
   ]
  },
  {
   "cell_type": "markdown",
   "id": "eb200d6d",
   "metadata": {},
   "source": [
    "operator overloading"
   ]
  },
  {
   "cell_type": "code",
   "execution_count": 1,
   "id": "fe9d6925",
   "metadata": {},
   "outputs": [
    {
     "name": "stdout",
     "output_type": "stream",
     "text": [
      "10\n",
      "20\n",
      "sum value: 30\n"
     ]
    }
   ],
   "source": [
    "class myclass:\n",
    "    def __init__(self,a):\n",
    "        self.a=a\n",
    "        print(self.a)\n",
    "obj1=myclass(10)\n",
    "obj2=myclass(20)\n",
    "print(\"sum value:\",obj1.a+obj2.a)"
   ]
  },
  {
   "cell_type": "code",
   "execution_count": 2,
   "id": "6ba08ca0",
   "metadata": {},
   "outputs": [
    {
     "name": "stdout",
     "output_type": "stream",
     "text": [
      "10\n",
      "20\n"
     ]
    },
    {
     "ename": "TypeError",
     "evalue": "unsupported operand type(s) for +: 'myclass' and 'myclass'",
     "output_type": "error",
     "traceback": [
      "\u001b[1;31m---------------------------------------------------------------------------\u001b[0m",
      "\u001b[1;31mTypeError\u001b[0m                                 Traceback (most recent call last)",
      "Cell \u001b[1;32mIn[2], line 8\u001b[0m\n\u001b[0;32m      6\u001b[0m obj1\u001b[38;5;241m=\u001b[39mmyclass(\u001b[38;5;241m10\u001b[39m)\n\u001b[0;32m      7\u001b[0m obj2\u001b[38;5;241m=\u001b[39mmyclass(\u001b[38;5;241m20\u001b[39m)\n\u001b[1;32m----> 8\u001b[0m \u001b[38;5;28mprint\u001b[39m(\u001b[38;5;124m\"\u001b[39m\u001b[38;5;124msum value:\u001b[39m\u001b[38;5;124m\"\u001b[39m,\u001b[43mobj1\u001b[49m\u001b[38;5;241;43m+\u001b[39;49m\u001b[43mobj2\u001b[49m)\n",
      "\u001b[1;31mTypeError\u001b[0m: unsupported operand type(s) for +: 'myclass' and 'myclass'"
     ]
    }
   ],
   "source": [
    "class myclass:\n",
    "    def __init__(self,a):\n",
    "        self.a=a\n",
    "        print(self.a)\n",
    "obj1=myclass(10)\n",
    "obj2=myclass(20)\n",
    "print(\"sum value:\",obj1+obj2)"
   ]
  },
  {
   "cell_type": "code",
   "execution_count": 29,
   "id": "1da52476",
   "metadata": {},
   "outputs": [
    {
     "ename": "SyntaxError",
     "evalue": "invalid syntax (2099303927.py, line 6)",
     "output_type": "error",
     "traceback": [
      "\u001b[1;36m  Cell \u001b[1;32mIn[29], line 6\u001b[1;36m\u001b[0m\n\u001b[1;33m    return self.a other.a\u001b[0m\n\u001b[1;37m                  ^\u001b[0m\n\u001b[1;31mSyntaxError\u001b[0m\u001b[1;31m:\u001b[0m invalid syntax\n"
     ]
    }
   ],
   "source": [
    "class myclass:\n",
    "    def __init__(self,a):\n",
    "        self.a=a\n",
    "        print(self.a)\n",
    "    def __add__(self,other):\n",
    "        return self.a,other.a\n",
    "obj1=myclass(10)\n",
    "obj2=myclass(20)\n",
    "print(\"sum value:\",obj1+obj2)"
   ]
  },
  {
   "cell_type": "code",
   "execution_count": null,
   "id": "89386030",
   "metadata": {},
   "outputs": [],
   "source": [
    "class myclass:\n",
    "    def __init__(self,a):\n",
    "        self.a=a\n",
    "        print(self.a)\n",
    "    def __add__(self,other):\n",
    "        return self.a+other.a\n",
    "obj1=myclass(10)\n",
    "obj2=myclass(20)\n",
    "print(\"sum value:\",obj1+obj2)"
   ]
  },
  {
   "cell_type": "code",
   "execution_count": 30,
   "id": "ba764ccd",
   "metadata": {},
   "outputs": [
    {
     "name": "stdout",
     "output_type": "stream",
     "text": [
      "10\n",
      "20\n",
      "sum value: 10\n"
     ]
    }
   ],
   "source": [
    "class myclass:\n",
    "    def __init__(self,a):\n",
    "        self.a=a\n",
    "        print(self.a)\n",
    "    def __add__(self,other):\n",
    "        return self.a\n",
    "obj1=myclass(10)\n",
    "obj2=myclass(20)\n",
    "print(\"sum value:\",obj1+obj2)"
   ]
  },
  {
   "cell_type": "code",
   "execution_count": 21,
   "id": "67fa7232",
   "metadata": {},
   "outputs": [
    {
     "name": "stdout",
     "output_type": "stream",
     "text": [
      "10\n",
      "20\n",
      "sum value: 20\n"
     ]
    }
   ],
   "source": [
    "class myclass:\n",
    "    def __init__(self,a):\n",
    "        self.a=a\n",
    "        print(self.a)\n",
    "    def __add__(self,other):\n",
    "        return other.a\n",
    "obj1=myclass(10)\n",
    "obj2=myclass(20)\n",
    "print(\"sum value:\",obj1+obj2)"
   ]
  },
  {
   "cell_type": "code",
   "execution_count": 46,
   "id": "26d64098",
   "metadata": {},
   "outputs": [
    {
     "name": "stdout",
     "output_type": "stream",
     "text": [
      "name: ram\n",
      "salary: 2000\n",
      "name: ram\n",
      "net saalary: 56000\n"
     ]
    }
   ],
   "source": [
    "class employees:\n",
    "    def __init__(self,name,salary):\n",
    "        self.name=name\n",
    "        self.salary=salary\n",
    "        print(\"name:\",self.name)\n",
    "        print(\"salary:\",self.salary)\n",
    "    def __mul__(self,other):\n",
    "        print(\"name:\",self.name)\n",
    "        return self.salary*other.days\n",
    "    \n",
    "    \n",
    "class payroll:\n",
    "    def __init__(self,days):\n",
    "        self.days=days\n",
    "obj1=employees(\"ram\",2000)\n",
    "obj2=payroll(28)\n",
    "print(\"net saalary:\",obj1*obj2)"
   ]
  },
  {
   "cell_type": "markdown",
   "id": "1b2fddec",
   "metadata": {},
   "source": [
    "Encapsulation in python:\n",
    "It describe the idea of wrapping data and the methods that work on data within one unit\n",
    "A class is an example of encapsulation as it encapsulates all the data that is member functions, variables etc."
   ]
  },
  {
   "cell_type": "code",
   "execution_count": 2,
   "id": "2ffaeb45",
   "metadata": {},
   "outputs": [],
   "source": [
    "class bank:\n",
    "    def ram(self):\n",
    "        print(\"name:ram\")\n",
    "        print(\"a/c no:12345\")\n",
    "        print(\"amount:10000\")\n",
    "        print(\"address:salem\")\n",
    "    def sam(self):\n",
    "        print(\"name:sam\")\n",
    "        print(\"a/c no:12346\")\n",
    "        print(\"amount:15000\")\n",
    "        print(\"address:chennai\")\n",
    "obj = bank()\n",
    "obj.ram()\n",
    "obj.sam()\n"
   ]
  },
  {
   "cell_type": "markdown",
   "id": "9efe2b34",
   "metadata": {},
   "source": [
    "public method"
   ]
  },
  {
   "cell_type": "code",
   "execution_count": 3,
   "id": "6ee48cf5",
   "metadata": {},
   "outputs": [],
   "source": [
    "class bank:\n",
    "    def __init__(self):\n",
    "        self.value=10\n",
    "    def ram(self):\n",
    "        print(\"name:ram\")\n",
    "        print(\"a/c no:12345\")\n",
    "        print(\"amount:10000\")\n",
    "        print(\"address:salem\")\n",
    "    def sam(self):\n",
    "        print(\"name:sam\")\n",
    "        print(\"a/c no:12346\")\n",
    "        print(\"amount:15000\")\n",
    "        print(\"address:chennai\")\n",
    "obj = bank()\n",
    "obj.ram()\n",
    "obj.sam()\n",
    "print(obj.value)"
   ]
  },
  {
   "cell_type": "markdown",
   "id": "ade4958c",
   "metadata": {},
   "source": [
    "private method"
   ]
  },
  {
   "cell_type": "code",
   "execution_count": 5,
   "id": "1a644a0c",
   "metadata": {},
   "outputs": [],
   "source": [
    "class bank:\n",
    "    def __init__(self):\n",
    "        self.__value=10\n",
    "    def ram(self):\n",
    "        print(\"value:\",self.__value)\n",
    "        print(\"name:ram\")\n",
    "        print(\"a/c no:12345\")\n",
    "        print(\"amount:10000\")\n",
    "        print(\"address:salem\")\n",
    "    def sam(self):\n",
    "        print(\"name:sam\")\n",
    "        print(\"a/c no:12346\")\n",
    "        print(\"amount:15000\")\n",
    "        print(\"address:chennai\")\n",
    "obj = bank()\n",
    "obj.ram()\n",
    "obj.sam()\n"
   ]
  },
  {
   "cell_type": "code",
   "execution_count": 6,
   "id": "673b3c54",
   "metadata": {},
   "outputs": [],
   "source": [
    "class bank:\n",
    "    def __init__(self):\n",
    "        self.__value=10 #private variable\n",
    "    def __ram(self):#private method\n",
    "        print(\"value:\",self.__value)\n",
    "        print(\"name:ram\")\n",
    "        print(\"a/c no:12345\")\n",
    "        print(\"amount:10000\")\n",
    "        print(\"address:salem\")\n",
    "    def sam(self):\n",
    "        self.__ram()\n",
    "        print(\"name:sam\")#public method\n",
    "        print(\"a/c no:12346\")\n",
    "        print(\"amount:15000\")\n",
    "        print(\"address:chennai\")\n",
    "obj = bank()\n",
    "\n",
    "obj.sam()\n"
   ]
  },
  {
   "cell_type": "code",
   "execution_count": 3,
   "id": "13e80735",
   "metadata": {},
   "outputs": [
    {
     "name": "stdout",
     "output_type": "stream",
     "text": [
      "value: 10\n",
      "name:ram\n",
      "a/c no:12345\n",
      "amount:10000\n",
      "address:salem\n",
      "name:sam\n",
      "a/c no:12346\n",
      "amount:15000\n",
      "address:chennai\n"
     ]
    }
   ],
   "source": [
    "class bank:\n",
    "    def __init__(self):\n",
    "        self.__value=10 #private variable\n",
    "    def __ram(self):#private method\n",
    "        print(\"value:\",self.__value)\n",
    "        print(\"name:ram\")\n",
    "        print(\"a/c no:12345\")\n",
    "        print(\"amount:10000\")\n",
    "        print(\"address:salem\")\n",
    "    def sam(self):\n",
    "        print(\"name:sam\")#public method\n",
    "        print(\"a/c no:12346\")\n",
    "        print(\"amount:15000\")\n",
    "        print(\"address:chennai\")\n",
    "obj = bank()\n",
    "obj._bank__ram()\n",
    "obj.sam()\n"
   ]
  },
  {
   "cell_type": "code",
   "execution_count": 9,
   "id": "6900b890",
   "metadata": {},
   "outputs": [],
   "source": [
    "class bank:\n",
    "    def __init__(self):\n",
    "        self.__value=10 #private variable\n",
    "    def __ram(self):#private method\n",
    "        print(\"name:ram\")\n",
    "        print(\"a/c no:12345\")\n",
    "        print(\"amount:10000\")\n",
    "        print(\"address:salem\")\n",
    "    def __sam(self):\n",
    "        print(\"name:sam\")#public method\n",
    "        print(\"a/c no:12346\")\n",
    "        print(\"amount:15000\")\n",
    "        print(\"address:chennai\")\n",
    "obj = bank()\n",
    "obj._bank__ram()\n",
    "obj._bank__sam()\n",
    "print(\"value:\",obj._bank__value)"
   ]
  },
  {
   "cell_type": "markdown",
   "id": "419da8fa",
   "metadata": {},
   "source": [
    "Data abstraction:\n",
    "abstraction is used to hide the internal functionality of the function from the users\n",
    "The users only interact with the basic implementation of the function but inner working is hidden "
   ]
  },
  {
   "cell_type": "code",
   "execution_count": 8,
   "id": "c9239502",
   "metadata": {},
   "outputs": [],
   "source": [
    "class factorial:\n",
    "    def fact(self,num):\n",
    "        f=1\n",
    "        for i in range(1,num+1):\n",
    "            f*=i\n",
    "        return f"
   ]
  },
  {
   "cell_type": "code",
   "execution_count": 9,
   "id": "a4cf8917",
   "metadata": {},
   "outputs": [],
   "source": [
    "num=int(input(\"enter the factorial number:\"))\n",
    "obj=factorial()\n",
    "result=obj.fact(num)#data abstraction\n",
    "print('the',num,\"factorial is:\",result)"
   ]
  },
  {
   "cell_type": "code",
   "execution_count": null,
   "id": "14f3d18e",
   "metadata": {},
   "outputs": [],
   "source": [
    "# add employee\n",
    "#view employee\n",
    "#remove employee\n",
    "class employee:\n",
    "    def add_employee(self):\n",
    "        pass\n",
    "    def view_employee(self):\n",
    "        pass\n",
    "    def remove_employee(self):\n",
    "        pass\n",
    "obj=employee()\n",
    "while True:\n",
    "    print(\"\\n\")\n",
    "    print(\"1.add employee\")\n",
    "    print(\"2.view employee\")\n",
    "    print(\"3.delete employee\")\n",
    "    "
   ]
  },
  {
   "cell_type": "code",
   "execution_count": 4,
   "id": "cc090f04",
   "metadata": {},
   "outputs": [
    {
     "name": "stdout",
     "output_type": "stream",
     "text": [
      "\n",
      "\n",
      "1.Add Employee\n",
      "2.View Employee\n",
      "3.Delete Employee\n",
      "4.Exit\n",
      "\n",
      "please enter your operation:1\n",
      "\n",
      "How many employees would you like to add?:1\n",
      "\n",
      "enter employee name:\n",
      "uy\n",
      "\n",
      "\n",
      "1.Add Employee\n",
      "2.View Employee\n",
      "3.Delete Employee\n",
      "4.Exit\n",
      "\n",
      "please enter your operation:4\n",
      "exit\n"
     ]
    }
   ],
   "source": [
    "class employees:\n",
    "    def add_employee(self):\n",
    "        self.emp=[]\n",
    "        count=int(input(\"\\nHow many employees would you like to add?:\"))\n",
    "        print(\"\\nenter employee name:\")\n",
    "        for i in range(count):\n",
    "            ename = input()\n",
    "            self.emp.append(ename)\n",
    "    def view_employee(self):\n",
    "        print(\"\\n list of employees\")\n",
    "        for sno, name in enumerate(self.emp,1):\n",
    "            print(\"{}.{}\".format(sno,name))\n",
    "    def remove_employee(self):\n",
    "        data = input(\"\\nwhich employee you want to delete?:\")\n",
    "        if data in self.emp:\n",
    "            self.emp.remove(data)\n",
    "            print(\"employee deleted\")\n",
    "        else:\n",
    "            print(\"invalid employee name..!!!\")\n",
    "obj=employees()\n",
    "while True:\n",
    "    print(\"\\n\")\n",
    "    print(\"1.Add Employee\")\n",
    "    print(\"2.View Employee\")\n",
    "    print(\"3.Delete Employee\")\n",
    "    print(\"4.Exit\")\n",
    "    data = int(input(\"\\nplease enter your operation:\"))\n",
    "    if data==1:\n",
    "        obj.add_employee()\n",
    "    elif data==2:\n",
    "        obj.view_employee()\n",
    "    elif data==3:\n",
    "        obj.remove_employee()\n",
    "    else:\n",
    "        print(\"exit\")\n",
    "        break"
   ]
  },
  {
   "cell_type": "code",
   "execution_count": null,
   "id": "3c4c1817",
   "metadata": {},
   "outputs": [],
   "source": []
  },
  {
   "cell_type": "code",
   "execution_count": null,
   "id": "3724f1de",
   "metadata": {},
   "outputs": [],
   "source": []
  },
  {
   "cell_type": "code",
   "execution_count": null,
   "id": "6128b944",
   "metadata": {},
   "outputs": [],
   "source": []
  },
  {
   "cell_type": "code",
   "execution_count": null,
   "id": "b714d503",
   "metadata": {},
   "outputs": [],
   "source": []
  },
  {
   "cell_type": "code",
   "execution_count": null,
   "id": "22d8444f",
   "metadata": {},
   "outputs": [],
   "source": []
  },
  {
   "cell_type": "code",
   "execution_count": null,
   "id": "50889191",
   "metadata": {},
   "outputs": [],
   "source": []
  }
 ],
 "metadata": {
  "kernelspec": {
   "display_name": "Python 3 (ipykernel)",
   "language": "python",
   "name": "python3"
  },
  "language_info": {
   "codemirror_mode": {
    "name": "ipython",
    "version": 3
   },
   "file_extension": ".py",
   "mimetype": "text/x-python",
   "name": "python",
   "nbconvert_exporter": "python",
   "pygments_lexer": "ipython3",
   "version": "3.10.9"
  }
 },
 "nbformat": 4,
 "nbformat_minor": 5
}
